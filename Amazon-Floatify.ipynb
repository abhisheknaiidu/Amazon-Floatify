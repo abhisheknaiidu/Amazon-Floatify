{
 "cells": [
  {
   "cell_type": "code",
   "execution_count": 43,
   "metadata": {},
   "outputs": [
    {
     "name": "stdout",
     "output_type": "stream",
     "text": [
      "After 1 Minute -\n",
      "Bongs Product Name : Mi 20000mAH Li-Polymer Power Bank 2i (Sandstone Black) with 18W Fast Charging\n",
      "Product's Current Price: 1399\n",
      "Bongs wants to buy in under : 800\n",
      "Price has not fallen yet. Last checked at 2019-10-03 01:18:58.380619\n",
      "After 2 Minute -\n",
      "Bongs Product Name : Mi 20000mAH Li-Polymer Power Bank 2i (Sandstone Black) with 18W Fast Charging\n",
      "Product's Current Price: 1399\n",
      "Bongs wants to buy in under : 800\n",
      "Price has not fallen yet. Last checked at 2019-10-03 01:20:00.850451\n"
     ]
    },
    {
     "ename": "KeyboardInterrupt",
     "evalue": "",
     "output_type": "error",
     "traceback": [
      "\u001b[0;31m---------------------------------------------------------------------------\u001b[0m",
      "\u001b[0;31mKeyboardInterrupt\u001b[0m                         Traceback (most recent call last)",
      "\u001b[0;32m<ipython-input-43-ed7f2545cfaf>\u001b[0m in \u001b[0;36m<module>\u001b[0;34m\u001b[0m\n\u001b[1;32m     53\u001b[0m     \u001b[0mprint\u001b[0m\u001b[0;34m(\u001b[0m\u001b[0;34m\"After \"\u001b[0m\u001b[0;34m+\u001b[0m\u001b[0mstr\u001b[0m\u001b[0;34m(\u001b[0m\u001b[0mcount\u001b[0m\u001b[0;34m)\u001b[0m\u001b[0;34m+\u001b[0m\u001b[0;34m\" Minute -\"\u001b[0m\u001b[0;34m)\u001b[0m\u001b[0;34m\u001b[0m\u001b[0;34m\u001b[0m\u001b[0m\n\u001b[1;32m     54\u001b[0m     \u001b[0mprice_checker\u001b[0m\u001b[0;34m(\u001b[0m\u001b[0;34m)\u001b[0m\u001b[0;34m\u001b[0m\u001b[0;34m\u001b[0m\u001b[0m\n\u001b[0;32m---> 55\u001b[0;31m     \u001b[0mtime\u001b[0m\u001b[0;34m.\u001b[0m\u001b[0msleep\u001b[0m\u001b[0;34m(\u001b[0m\u001b[0;36m60\u001b[0m\u001b[0;34m)\u001b[0m\u001b[0;34m\u001b[0m\u001b[0;34m\u001b[0m\u001b[0m\n\u001b[0m",
      "\u001b[0;31mKeyboardInterrupt\u001b[0m: "
     ]
    }
   ],
   "source": [
    "import requests,time,smtplib\n",
    "from bs4 import  BeautifulSoup\n",
    "from datetime import datetime\n",
    "from notify_run import Notify\n",
    "\n",
    "url = \"https://www.amazon.in/Mi-20000mAH-Li-Polymer-Sandstone-Charging/dp/B07VXJS7DH/ref=sr_1_7?keywords=power+banks&qid=1570038527&s=computers&smid=A14CZOWI0VEHLG&sr=8-7\"\n",
    "\n",
    "dp = 800\n",
    "URL = url\n",
    "pnmsg = \"BONGS! Mi PowerBank Price Falls Under\"+str(dp)+\" !! \"\n",
    "headers = {\"User-Agent\": 'Mozilla/5.0 (Windows NT 10.0; Win64; x64) AppleWebKit/537.36 (KHTML, like Gecko) Chrome/76.0.3809.132 Safari/537.36'}\n",
    "\n",
    "def price_checker():\n",
    "\n",
    "\n",
    "    page = requests.get(URL, headers=headers)\n",
    "    soup= BeautifulSoup(page.content,'html.parser')\n",
    "    \n",
    "    title = soup.find(id=\"productTitle\").get_text()\n",
    "    price = soup.find(id=\"priceblock_dealprice\").get_text()\n",
    "\n",
    "    main_price = price[2:]\n",
    "    l = len(main_price)\n",
    "    if l<=6 :\n",
    "        main_price = price[2:5]\n",
    "    else:\n",
    "        a =  price[2]\n",
    "        b =  price[4:7]\n",
    "        ab = str(a)+str(b)\n",
    "        main_price = int(ab)\n",
    " \n",
    "        price_now = int(main_price)\n",
    "    pn=str(title.strip())\n",
    "    cp = main_price\n",
    "    print(\"Bongs Product Name : \"+ pn)\n",
    "    print(\"Product's Current Price: \"+ str(cp))\n",
    "    print(\"Bongs wants to buy in under : \"+ str(dp))\n",
    "  \n",
    "\n",
    "    \n",
    "#push notification\n",
    "    count = 0\n",
    "    if(price_now <= dp):\n",
    "        push_notification()\n",
    "    else:\n",
    "        count = count+1\n",
    "        print(\"Price has not fallen yet. Last checked at \"+str(datetime.now()))\n",
    "  \n",
    " #Prices after 60 seconds/1 minute\n",
    "count = 0\n",
    "while(True):\n",
    "    count += 1\n",
    "    print(\"After \"+str(count)+\" Minute -\")\n",
    "    price_checker()\n",
    "    time.sleep(60)\n"
   ]
  },
  {
   "cell_type": "code",
   "execution_count": 33,
   "metadata": {},
   "outputs": [],
   "source": [
    "def push_notification():\n",
    "    notify = Notify()\n",
    "    notify.send(pnmsg)\n",
    "    print(\"Hey BONGS! ,Notification Succesfully Sent!\")\n",
    " \n",
    "    print(\"BONGS! check this space when u get free time! to get updated. \")\n",
    "    \n"
   ]
  }
 ],
 "metadata": {
  "kernelspec": {
   "display_name": "Python 3",
   "language": "python",
   "name": "python3"
  },
  "language_info": {
   "codemirror_mode": {
    "name": "ipython",
    "version": 3
   },
   "file_extension": ".py",
   "mimetype": "text/x-python",
   "name": "python",
   "nbconvert_exporter": "python",
   "pygments_lexer": "ipython3",
   "version": "3.7.3"
  }
 },
 "nbformat": 4,
 "nbformat_minor": 2
}
